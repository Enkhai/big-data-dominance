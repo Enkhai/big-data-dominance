{
 "cells": [
  {
   "cell_type": "markdown",
   "metadata": {},
   "source": [
    "# Algorithms results"
   ]
  },
  {
   "cell_type": "code",
   "execution_count": 1,
   "metadata": {},
   "outputs": [],
   "source": [
    "import numpy as np\n",
    "import matplotlib.pyplot as plt\n",
    "from mpl_toolkits.mplot3d import Axes3D\n",
    "import os"
   ]
  },
  {
   "cell_type": "code",
   "execution_count": 2,
   "metadata": {},
   "outputs": [],
   "source": [
    "data_dir = 'datasets/'\n",
    "results_dir = 'results/'\n",
    "figure_dir = 'figures/'\n",
    "suffix = '.csv'"
   ]
  },
  {
   "cell_type": "code",
   "execution_count": null,
   "metadata": {},
   "outputs": [],
   "source": [
    "os.makedirs(figure_dir, exist_ok=True)"
   ]
  },
  {
   "cell_type": "code",
   "execution_count": null,
   "metadata": {},
   "outputs": [],
   "source": [
    "dist_types = ['gaussian', 'uniform', 'correlated', 'anticorrelated_1_0']\n",
    "dim = ['2', '3']\n",
    "result_types = ['skyline', 'top20', 'top20skyline']"
   ]
  },
  {
   "cell_type": "code",
   "execution_count": null,
   "metadata": {},
   "outputs": [],
   "source": [
    "distributions = {}\n",
    "for d in dim:\n",
    "    for dt in dist_types:\n",
    "        key = dt + '_size1000' + '_dim' + d\n",
    "        distributions[key] = np.loadtxt(data_dir + key + suffix, delimiter=',')"
   ]
  },
  {
   "cell_type": "code",
   "execution_count": null,
   "metadata": {},
   "outputs": [],
   "source": [
    "results = {}\n",
    "for rt in result_types:\n",
    "    r = {}\n",
    "    for d in dim:\n",
    "        for dt in dist_types:\n",
    "            key = dt + '_size1000' + '_dim' + d\n",
    "            r[key] = np.loadtxt(results_dir + rt + '/' + key, delimiter=', ')\n",
    "    results[rt] = r"
   ]
  },
  {
   "cell_type": "markdown",
   "metadata": {},
   "source": [
    "## Skyline"
   ]
  },
  {
   "cell_type": "code",
   "execution_count": null,
   "metadata": {
    "scrolled": true
   },
   "outputs": [],
   "source": [
    "for dt in dist_types:\n",
    "    key = dt + '_size1000' + '_dim2'\n",
    "    x = distributions[key]\n",
    "    y = results['skyline'][key]\n",
    "    fig = plt.figure(figsize=(20,13))\n",
    "    plt.scatter(x[:,0], x[:,1])\n",
    "    plt.scatter(y[:,0], y[:,1])\n",
    "    plt.show()\n",
    "    fig.savefig(figure_dir + 'skyline/' + key)"
   ]
  },
  {
   "cell_type": "code",
   "execution_count": null,
   "metadata": {
    "scrolled": true
   },
   "outputs": [],
   "source": [
    "for dt in dist_types:\n",
    "    key = dt + '_size1000' + '_dim3'\n",
    "    x = distributions[key]\n",
    "    y = results['skyline'][key]\n",
    "    fig = plt.figure(figsize=(20,13))\n",
    "    ax = fig.add_subplot(111, projection='3d')\n",
    "    ax.scatter(x[:,0], x[:,1], x[:,2], alpha=0.2)\n",
    "    ax.scatter(y[:,0], y[:,1], y[:,2], c='orange', depthshade=False)\n",
    "    plt.show()\n",
    "    fig.savefig(figure_dir + 'skyline/' + key)"
   ]
  },
  {
   "cell_type": "markdown",
   "metadata": {},
   "source": [
    "## Highest domination score"
   ]
  },
  {
   "cell_type": "code",
   "execution_count": null,
   "metadata": {
    "scrolled": true
   },
   "outputs": [],
   "source": [
    "for dt in dist_types:\n",
    "    key = dt + '_size1000' + '_dim2'\n",
    "    x = distributions[key]\n",
    "    y = results['top20'][key]\n",
    "    fig = plt.figure(figsize=(20,13))\n",
    "    plt.scatter(x[:,0], x[:,1])\n",
    "    plt.scatter(y[:,0], y[:,1])\n",
    "    plt.show()\n",
    "    fig.savefig(figure_dir + 'skyline/' + key)"
   ]
  },
  {
   "cell_type": "code",
   "execution_count": null,
   "metadata": {
    "scrolled": true
   },
   "outputs": [],
   "source": [
    "for dt in dist_types:\n",
    "    key = dt + '_size1000' + '_dim3'\n",
    "    x = distributions[key]\n",
    "    y = results['top20'][key]\n",
    "    fig = plt.figure(figsize=(20,13))\n",
    "    ax = fig.add_subplot(111, projection='3d')\n",
    "    ax.scatter(x[:,0], x[:,1], x[:,2], alpha=0.2)\n",
    "    ax.scatter(y[:,0], y[:,1], y[:,2], c='orange', depthshade=False)\n",
    "    plt.show()\n",
    "    fig.savefig(figure_dir + 'skyline/' + key)"
   ]
  },
  {
   "cell_type": "markdown",
   "metadata": {},
   "source": [
    "## Skyline top-k domination"
   ]
  },
  {
   "cell_type": "code",
   "execution_count": null,
   "metadata": {
    "scrolled": true
   },
   "outputs": [],
   "source": [
    "for dt in dist_types:\n",
    "    key = dt + '_size1000' + '_dim2'\n",
    "    x = distributions[key]\n",
    "    y = results['top20skyline'][key]\n",
    "    fig = plt.figure(figsize=(20,13))\n",
    "    plt.scatter(x[:,0], x[:,1])\n",
    "    plt.scatter(y[:,0], y[:,1])\n",
    "    plt.show()\n",
    "    fig.savefig(figure_dir + 'skyline/' + key)"
   ]
  },
  {
   "cell_type": "code",
   "execution_count": null,
   "metadata": {
    "scrolled": true
   },
   "outputs": [],
   "source": [
    "for dt in dist_types:\n",
    "    key = dt + '_size1000' + '_dim3'\n",
    "    x = distributions[key]\n",
    "    y = results['top20skyline'][key]\n",
    "    fig = plt.figure(figsize=(20,13))\n",
    "    ax = fig.add_subplot(111, projection='3d')\n",
    "    ax.scatter(x[:,0], x[:,1], x[:,2], alpha=0.2)\n",
    "    ax.scatter(y[:,0], y[:,1], y[:,2], c='orange', depthshade=False)\n",
    "    plt.show()\n",
    "    fig.savefig(figure_dir + 'skyline/' + key)"
   ]
  }
 ],
 "metadata": {
  "kernelspec": {
   "display_name": "Python 3",
   "language": "python",
   "name": "python3"
  },
  "language_info": {
   "codemirror_mode": {
    "name": "ipython",
    "version": 3
   },
   "file_extension": ".py",
   "mimetype": "text/x-python",
   "name": "python",
   "nbconvert_exporter": "python",
   "pygments_lexer": "ipython3",
   "version": "3.7.9"
  }
 },
 "nbformat": 4,
 "nbformat_minor": 4
}
